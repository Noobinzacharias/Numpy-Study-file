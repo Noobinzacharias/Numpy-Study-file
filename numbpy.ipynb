{
 "cells": [
  {
   "cell_type": "code",
   "execution_count": 11,
   "id": "619e5510-2eb5-40c4-b7a5-9f3612956c03",
   "metadata": {},
   "outputs": [
    {
     "name": "stdout",
     "output_type": "stream",
     "text": [
      "(array([2, 7, 8], dtype=int64),)\n"
     ]
    }
   ],
   "source": [
    "import numpy as np\n",
    "arr = np.array([1,2,3,4,5,6,2,3,3,4,5,2])\n",
    "x = np.where(arr == 3)\n",
    "print(x)"
   ]
  },
  {
   "cell_type": "code",
   "execution_count": 5,
   "id": "4a94d96f-0324-4458-ad83-d04141e0b756",
   "metadata": {},
   "outputs": [
    {
     "name": "stdout",
     "output_type": "stream",
     "text": [
      "(array([ 1,  3,  5,  6,  9, 11], dtype=int64),)\n"
     ]
    }
   ],
   "source": [
    "#print even\n",
    "y = np.where(arr %2 == 0)\n",
    "print(y)"
   ]
  },
  {
   "cell_type": "code",
   "execution_count": 13,
   "id": "d0ff9d3e-4d8c-4afc-98fe-1037e99e6e91",
   "metadata": {},
   "outputs": [
    {
     "name": "stdout",
     "output_type": "stream",
     "text": [
      "(array([ 1,  3,  5,  6,  9, 11], dtype=int64),)\n"
     ]
    }
   ],
   "source": [
    "#print odd\n",
    "z = np.where(arr %2 == 1)\n",
    "print(y)"
   ]
  },
  {
   "cell_type": "code",
   "execution_count": 31,
   "id": "f4479724-3b7e-425f-b521-03b15dae3482",
   "metadata": {},
   "outputs": [
    {
     "name": "stdout",
     "output_type": "stream",
     "text": [
      "2\n"
     ]
    }
   ],
   "source": [
    "import numpy as np\n",
    "arr = np.array([1,2,3,4,5])\n",
    "y = np.searchsorted(arr,3)\n",
    "print(y)"
   ]
  },
  {
   "cell_type": "markdown",
   "id": "50d57cd7-7a1a-46bd-bff9-edf0eda1d690",
   "metadata": {},
   "source": [
    "# where replace"
   ]
  },
  {
   "cell_type": "code",
   "execution_count": 33,
   "id": "91969b3b-df34-4144-9b91-b0a928d0de14",
   "metadata": {},
   "outputs": [
    {
     "name": "stdout",
     "output_type": "stream",
     "text": [
      "3\n"
     ]
    }
   ],
   "source": [
    "import numpy as np\n",
    "arr = np.array([1,2,3,4,5,6])\n",
    "Z= np.searchsorted(arr,3, side = \"right\")\n",
    "print(Z)"
   ]
  },
  {
   "cell_type": "code",
   "execution_count": 39,
   "id": "5f9c8a26-2a2f-4ab4-a116-cd910109cc90",
   "metadata": {},
   "outputs": [
    {
     "data": {
      "text/plain": [
       "array([1, 2, 3, 4, 5, 9, 7, 3, 8, 4])"
      ]
     },
     "execution_count": 39,
     "metadata": {},
     "output_type": "execute_result"
    }
   ],
   "source": [
    "list = np.array([1,2,3,4,5,9,7,3,8,4])\n",
    "list"
   ]
  },
  {
   "cell_type": "code",
   "execution_count": 43,
   "id": "fcb87e55-2c56-443d-aa70-3ad60243f326",
   "metadata": {},
   "outputs": [
    {
     "data": {
      "text/plain": [
       "array([ 1,  2,  3,  4, 10, 10, 10,  3, 10,  4])"
      ]
     },
     "execution_count": 43,
     "metadata": {},
     "output_type": "execute_result"
    }
   ],
   "source": [
    "ten =np.where(list>=5,10,list)\n",
    "ten"
   ]
  },
  {
   "cell_type": "code",
   "execution_count": 47,
   "id": "586b30c6-fda0-41ca-a1cd-799d11da057b",
   "metadata": {},
   "outputs": [
    {
     "data": {
      "text/plain": [
       "array([20,  2,  3,  4,  5,  9,  7,  3,  8,  4])"
      ]
     },
     "execution_count": 47,
     "metadata": {},
     "output_type": "execute_result"
    }
   ],
   "source": [
    "five = np.where(list == 1, 20,list)\n",
    "five"
   ]
  },
  {
   "cell_type": "markdown",
   "id": "aa2e3a8d-498f-4b08-8805-32c52d4845f3",
   "metadata": {},
   "source": [
    "# reshaping array"
   ]
  },
  {
   "cell_type": "code",
   "execution_count": 55,
   "id": "7fe515fd-7283-4fcf-b396-17bc5dd2eec8",
   "metadata": {},
   "outputs": [
    {
     "data": {
      "text/plain": [
       "array([ 1,  2,  3,  4,  5,  6,  7,  8,  9, 10])"
      ]
     },
     "execution_count": 55,
     "metadata": {},
     "output_type": "execute_result"
    }
   ],
   "source": [
    "x = np.arange(1,11)\n",
    "x"
   ]
  },
  {
   "cell_type": "code",
   "execution_count": 61,
   "id": "f98a8f47-4324-465c-9800-629007bd2a3e",
   "metadata": {},
   "outputs": [
    {
     "data": {
      "text/plain": [
       "array([[ 1,  2,  3,  4,  5],\n",
       "       [ 6,  7,  8,  9, 10]])"
      ]
     },
     "execution_count": 61,
     "metadata": {},
     "output_type": "execute_result"
    }
   ],
   "source": [
    "y = x.reshape(2,5)\n",
    "y"
   ]
  },
  {
   "cell_type": "code",
   "execution_count": 59,
   "id": "c805919c-4a5d-4225-abde-25bd6d5b1373",
   "metadata": {},
   "outputs": [
    {
     "data": {
      "text/plain": [
       "2"
      ]
     },
     "execution_count": 59,
     "metadata": {},
     "output_type": "execute_result"
    }
   ],
   "source": [
    "y.ndim"
   ]
  },
  {
   "cell_type": "code",
   "execution_count": 63,
   "id": "bcb262a2-5528-4552-b0a0-61466bac5bec",
   "metadata": {},
   "outputs": [
    {
     "data": {
      "text/plain": [
       "(array([0], dtype=int64), array([2], dtype=int64))"
      ]
     },
     "execution_count": 63,
     "metadata": {},
     "output_type": "execute_result"
    }
   ],
   "source": [
    "z = np.where( y == 3)\n",
    "z"
   ]
  },
  {
   "cell_type": "code",
   "execution_count": 65,
   "id": "70902a97-fb93-4f53-9d2d-4e6670bd920f",
   "metadata": {},
   "outputs": [
    {
     "data": {
      "text/plain": [
       "(array([1], dtype=int64), array([1], dtype=int64))"
      ]
     },
     "execution_count": 65,
     "metadata": {},
     "output_type": "execute_result"
    }
   ],
   "source": [
    "z1 = np.where( y == 7)\n",
    "z1"
   ]
  },
  {
   "cell_type": "markdown",
   "id": "03868acd-65f1-4d47-b361-3878dd7485ed",
   "metadata": {},
   "source": [
    "# sorting array"
   ]
  },
  {
   "cell_type": "code",
   "execution_count": 75,
   "id": "90f66f6c-c1c8-4dba-b632-6aacb25f9c9e",
   "metadata": {},
   "outputs": [
    {
     "name": "stdout",
     "output_type": "stream",
     "text": [
      "[0 2 3 4 8 9]\n",
      "[9 8 4 3 2 0]\n"
     ]
    }
   ],
   "source": [
    "x = np.array([0,3,2,8,9,4])\n",
    "y = np.sort(x)\n",
    "des = -np.sort(-x)\n",
    "print(y)\n",
    "print(des)"
   ]
  },
  {
   "cell_type": "code",
   "execution_count": 77,
   "id": "a03958a8-b915-450f-b53d-e0fe851faa4e",
   "metadata": {},
   "outputs": [
    {
     "data": {
      "text/plain": [
       "array([9, 8, 4, 3, 2, 0])"
      ]
     },
     "execution_count": 77,
     "metadata": {},
     "output_type": "execute_result"
    }
   ],
   "source": [
    "d = np.sort(y)[::-1]\n",
    "d"
   ]
  },
  {
   "cell_type": "code",
   "execution_count": 73,
   "id": "6a7ed7ed-f4a9-4813-bace-7fdfddc62b1c",
   "metadata": {},
   "outputs": [
    {
     "data": {
      "text/plain": [
       "array(['a', 'b', 'h', 's'], dtype='<U1')"
      ]
     },
     "execution_count": 73,
     "metadata": {},
     "output_type": "execute_result"
    }
   ],
   "source": [
    "alp = np.array([ \"s\",\"a\",\"b\",\"h\"])\n",
    "order = np.sort(alp)\n",
    "order"
   ]
  },
  {
   "cell_type": "code",
   "execution_count": 5,
   "id": "11ab61c4-090a-4fe9-8b17-f62ea6e30a87",
   "metadata": {},
   "outputs": [
    {
     "data": {
      "text/plain": [
       "array([41, 43])"
      ]
     },
     "execution_count": 5,
     "metadata": {},
     "output_type": "execute_result"
    }
   ],
   "source": [
    "import numpy as np\n",
    "arr = np.array([41,42,43,46])\n",
    "x = [True,False,True,False]\n",
    "newarray = arr[x]\n",
    "newarray"
   ]
  },
  {
   "cell_type": "markdown",
   "id": "b3da1079-fcd3-49d1-b9c7-7f65161ca94e",
   "metadata": {},
   "source": [
    "# Array filter"
   ]
  },
  {
   "cell_type": "code",
   "execution_count": 15,
   "id": "9ee672d6-5e59-4a60-b486-8b3adb20e3a6",
   "metadata": {},
   "outputs": [
    {
     "name": "stdout",
     "output_type": "stream",
     "text": [
      "[ 2  4  6  8 10 12 14]\n"
     ]
    }
   ],
   "source": [
    "aar = np.arange(1,15)\n",
    "filter_array =[]\n",
    "for i in aar:\n",
    "    if i%2 == 0:\n",
    "        filter_array.append(True)\n",
    "    else:\n",
    "        filter_array.append(False)\n",
    "newarr = aar[filter_array]\n",
    "print(newarr)"
   ]
  },
  {
   "cell_type": "markdown",
   "id": "aa7d98a4-2fed-4e37-9163-4b524b13d04a",
   "metadata": {},
   "source": [
    "# Array filter"
   ]
  },
  {
   "cell_type": "code",
   "execution_count": 20,
   "id": "faf432df-0bc2-408a-ab74-4763c583db0a",
   "metadata": {},
   "outputs": [
    {
     "data": {
      "text/plain": [
       "array([ 1,  3,  5,  7,  9, 11, 13])"
      ]
     },
     "execution_count": 20,
     "metadata": {},
     "output_type": "execute_result"
    }
   ],
   "source": [
    "arr = np.arange(1,15)\n",
    "filter_array = arr%2 !=0\n",
    "newarr = arr[filter_array]\n",
    "newarr"
   ]
  },
  {
   "cell_type": "markdown",
   "id": "18f2322f-1f13-427c-b0a0-c13c331116dd",
   "metadata": {},
   "source": [
    "# random"
   ]
  },
  {
   "cell_type": "code",
   "execution_count": 4,
   "id": "262b6414-d5a9-4b52-9ed4-00491206dcfb",
   "metadata": {},
   "outputs": [
    {
     "data": {
      "text/plain": [
       "array([[0.91273092, 0.98308166, 0.55802563],\n",
       "       [0.61109247, 0.46701247, 0.80888758]])"
      ]
     },
     "execution_count": 4,
     "metadata": {},
     "output_type": "execute_result"
    }
   ],
   "source": [
    "import numpy as np\n",
    "c = np.random.rand(2,3)\n",
    "c"
   ]
  },
  {
   "cell_type": "markdown",
   "id": "09912d57-62f4-4f02-ae17-f301b0d020b9",
   "metadata": {},
   "source": [
    "### 3 dimention"
   ]
  },
  {
   "cell_type": "code",
   "execution_count": 6,
   "id": "6c9f4520-71fc-4a2f-8c0d-e6ee8eb92b31",
   "metadata": {},
   "outputs": [
    {
     "data": {
      "text/plain": [
       "array([[[0.78194192, 0.25792252, 0.90907656],\n",
       "        [0.42265537, 0.34673724, 0.16284157]],\n",
       "\n",
       "       [[0.48469931, 0.46331819, 0.97565817],\n",
       "        [0.34561015, 0.3162264 , 0.66263358]],\n",
       "\n",
       "       [[0.03937895, 0.57177428, 0.31017524],\n",
       "        [0.82766086, 0.00986457, 0.23568355]]])"
      ]
     },
     "execution_count": 6,
     "metadata": {},
     "output_type": "execute_result"
    }
   ],
   "source": [
    "d = np.random.rand(3,2,3)\n",
    "d"
   ]
  },
  {
   "cell_type": "markdown",
   "id": "7066e6a4-b76a-4c69-b50d-2821f5a92621",
   "metadata": {},
   "source": [
    "### 4 dimention"
   ]
  },
  {
   "cell_type": "code",
   "execution_count": 10,
   "id": "2711811b-5a92-4fba-818d-e53f8b057dda",
   "metadata": {},
   "outputs": [
    {
     "data": {
      "text/plain": [
       "array([[[[0.0289973 , 0.14733271, 0.53377976],\n",
       "         [0.37137379, 0.71096079, 0.31582115]],\n",
       "\n",
       "        [[0.58725158, 0.07220473, 0.82064258],\n",
       "         [0.47989301, 0.31175678, 0.38148877]],\n",
       "\n",
       "        [[0.39366939, 0.33761788, 0.72737451],\n",
       "         [0.29107607, 0.39380997, 0.0740107 ]]],\n",
       "\n",
       "\n",
       "       [[[0.04224622, 0.93646504, 0.87341074],\n",
       "         [0.55201521, 0.85229606, 0.6514907 ]],\n",
       "\n",
       "        [[0.31249051, 0.87859991, 0.16151787],\n",
       "         [0.35297401, 0.8812767 , 0.92381439]],\n",
       "\n",
       "        [[0.12941296, 0.01436022, 0.00334208],\n",
       "         [0.86479846, 0.93222198, 0.88095369]]],\n",
       "\n",
       "\n",
       "       [[[0.40284681, 0.11260482, 0.3438324 ],\n",
       "         [0.03448609, 0.98644172, 0.92632795]],\n",
       "\n",
       "        [[0.20797285, 0.44122272, 0.7908411 ],\n",
       "         [0.09511747, 0.40052962, 0.07372589]],\n",
       "\n",
       "        [[0.47655617, 0.23112987, 0.81772511],\n",
       "         [0.34589141, 0.4884933 , 0.16126601]]],\n",
       "\n",
       "\n",
       "       [[[0.20828888, 0.87682846, 0.01031318],\n",
       "         [0.60031381, 0.50253843, 0.07384001]],\n",
       "\n",
       "        [[0.87795992, 0.73746626, 0.60138796],\n",
       "         [0.80750569, 0.99659255, 0.53122598]],\n",
       "\n",
       "        [[0.24537193, 0.8399982 , 0.24842144],\n",
       "         [0.04949485, 0.18032086, 0.40608592]]]])"
      ]
     },
     "execution_count": 10,
     "metadata": {},
     "output_type": "execute_result"
    }
   ],
   "source": [
    "f = np.random.rand(4,3,2,3)\n",
    "f"
   ]
  },
  {
   "cell_type": "markdown",
   "id": "8150b2e2-dc35-49e3-8dcf-6d83428554a9",
   "metadata": {},
   "source": [
    "### Random Intinger"
   ]
  },
  {
   "cell_type": "code",
   "execution_count": 12,
   "id": "6e7be20e-b67f-4c66-9850-7e3d8a7b184f",
   "metadata": {},
   "outputs": [
    {
     "data": {
      "text/plain": [
       "array([[10, 20, 18, 48, 11],\n",
       "       [20, 27, 11, 46, 18],\n",
       "       [28, 44, 31, 32, 38],\n",
       "       [43, 15, 37, 45, 27]])"
      ]
     },
     "execution_count": 12,
     "metadata": {},
     "output_type": "execute_result"
    }
   ],
   "source": [
    "f = np.random.randint(10,50,size = (4,5))\n",
    "f"
   ]
  },
  {
   "cell_type": "markdown",
   "id": "f0c7bf94-8b96-4b6d-a3fb-657de69d004c",
   "metadata": {},
   "source": [
    "### random.unifom"
   ]
  },
  {
   "cell_type": "code",
   "execution_count": 15,
   "id": "45e7185f-59ef-4918-94b4-62b6cbde6c2a",
   "metadata": {},
   "outputs": [
    {
     "data": {
      "text/plain": [
       "array([7.61579719, 2.68215556, 8.58476996, 4.86753148, 1.45402332])"
      ]
     },
     "execution_count": 15,
     "metadata": {},
     "output_type": "execute_result"
    }
   ],
   "source": [
    "g= np.random.uniform(1,10,5)\n",
    "g"
   ]
  },
  {
   "cell_type": "markdown",
   "id": "9de6a89c-7475-4ec5-a008-ed8db6634cdf",
   "metadata": {},
   "source": [
    "### Normmal Distribution"
   ]
  },
  {
   "cell_type": "code",
   "execution_count": 20,
   "id": "ed528d40-7587-411a-b7d1-71c56ef05e4b",
   "metadata": {},
   "outputs": [
    {
     "data": {
      "text/plain": [
       "array([ 3.19691913, -0.33943294,  1.17457555, -0.48342801,  0.55559916,\n",
       "       -1.08501128, -0.12689937, -0.17623236,  0.79666069, -1.11579331])"
      ]
     },
     "execution_count": 20,
     "metadata": {},
     "output_type": "execute_result"
    }
   ],
   "source": [
    "# One dimention\n",
    "h = np.random.randn(10)\n",
    "h"
   ]
  },
  {
   "cell_type": "code",
   "execution_count": 22,
   "id": "45f8fdab-b8b4-43f0-8068-adc8183eedd7",
   "metadata": {},
   "outputs": [
    {
     "data": {
      "text/plain": [
       "array([[-1.47136213, -0.04860482, -0.86087526],\n",
       "       [-0.90364446, -0.35476527,  0.77399761],\n",
       "       [ 0.99504799,  0.44913393,  1.98465925],\n",
       "       [-0.1243891 ,  0.2293529 , -0.43817506]])"
      ]
     },
     "execution_count": 22,
     "metadata": {},
     "output_type": "execute_result"
    }
   ],
   "source": [
    "# two dimention\n",
    "i = np.random.randn(4,3)\n",
    "i"
   ]
  },
  {
   "cell_type": "code",
   "execution_count": 26,
   "id": "6d04e0b5-db28-44f0-99e0-daf5916f82d6",
   "metadata": {},
   "outputs": [
    {
     "data": {
      "text/plain": [
       "array([[[-0.01593483,  0.03149375,  0.38364605],\n",
       "        [-0.55801788,  0.93449033, -1.14128263],\n",
       "        [-2.17101983, -0.16915004, -1.04587392],\n",
       "        [ 0.2096508 , -1.31169206,  1.60870126]],\n",
       "\n",
       "       [[-0.84802837,  0.03596872,  0.21160279],\n",
       "        [ 0.17198298,  0.85069019, -0.73504689],\n",
       "        [ 1.20697834,  0.18289765, -2.90078586],\n",
       "        [-1.75713587,  0.00982099, -0.33390663]],\n",
       "\n",
       "       [[-0.6338362 ,  1.76225208,  0.91544623],\n",
       "        [ 1.1705752 ,  2.21201175,  1.87300368],\n",
       "        [-1.02919342,  1.55443492, -0.84855492],\n",
       "        [ 0.28877474, -0.54982674,  0.72609616]]])"
      ]
     },
     "execution_count": 26,
     "metadata": {},
     "output_type": "execute_result"
    }
   ],
   "source": [
    "#three Dimention\n",
    "j = np.random.randn(3,4,3)\n",
    "j"
   ]
  },
  {
   "cell_type": "markdown",
   "id": "8fab27cd-f2c8-4d84-b44d-cf8121b9a9b1",
   "metadata": {},
   "source": [
    "### Setting Seed"
   ]
  },
  {
   "cell_type": "markdown",
   "id": "7f88d198-9c18-48a2-b3a0-d5738a23c135",
   "metadata": {},
   "source": [
    "> to set uninq number in arrays"
   ]
  },
  {
   "cell_type": "code",
   "execution_count": 29,
   "id": "652b7b0e-4034-443d-aec2-260eb61e0a15",
   "metadata": {},
   "outputs": [
    {
     "data": {
      "text/plain": [
       "array([0.45016821, 0.34682824, 0.8888332 , 0.40349147, 0.37570729])"
      ]
     },
     "execution_count": 29,
     "metadata": {},
     "output_type": "execute_result"
    }
   ],
   "source": [
    "a = np.random.rand(5)\n",
    "a"
   ]
  },
  {
   "cell_type": "code",
   "execution_count": 31,
   "id": "fd35306f-7064-447b-a73b-ad454b8c7483",
   "metadata": {},
   "outputs": [
    {
     "data": {
      "text/plain": [
       "array([0.37454012, 0.95071431, 0.73199394, 0.59865848, 0.15601864])"
      ]
     },
     "execution_count": 31,
     "metadata": {},
     "output_type": "execute_result"
    }
   ],
   "source": [
    "a = np.random.seed(42)\n",
    "a = np.random.rand(5)\n",
    "a"
   ]
  },
  {
   "cell_type": "code",
   "execution_count": 41,
   "id": "117d136a-57ca-4715-8245-1001a8101272",
   "metadata": {},
   "outputs": [
    {
     "data": {
      "text/plain": [
       "array([0.37454012, 0.95071431, 0.73199394, 0.59865848, 0.15601864])"
      ]
     },
     "execution_count": 41,
     "metadata": {},
     "output_type": "execute_result"
    }
   ],
   "source": [
    "a = np.random.seed(42)\n",
    "a = np.random.rand(5)\n",
    "a"
   ]
  },
  {
   "cell_type": "code",
   "execution_count": 45,
   "id": "b92b4e9e-f63f-4276-931e-aea659c9b437",
   "metadata": {},
   "outputs": [
    {
     "data": {
      "text/plain": [
       "array([4, 7, 4, 7, 3])"
      ]
     },
     "execution_count": 45,
     "metadata": {},
     "output_type": "execute_result"
    }
   ],
   "source": [
    "a = np.random.seed(35)\n",
    "a = np.random.randint(3,9,5)\n",
    "a"
   ]
  },
  {
   "cell_type": "code",
   "execution_count": 47,
   "id": "ddc60bb0-c1d9-45dd-bc6a-a57b699333cf",
   "metadata": {},
   "outputs": [
    {
     "data": {
      "text/plain": [
       "array([4, 7, 4, 7, 3])"
      ]
     },
     "execution_count": 47,
     "metadata": {},
     "output_type": "execute_result"
    }
   ],
   "source": [
    "a = np.random.seed(35)\n",
    "a = np.random.randint(3,9,5)\n",
    "a"
   ]
  },
  {
   "cell_type": "markdown",
   "id": "1eda825b-d27e-4d74-a404-a2f98989c818",
   "metadata": {},
   "source": [
    "### shuffle array"
   ]
  },
  {
   "cell_type": "code",
   "execution_count": 50,
   "id": "51a952a7-8a90-4e67-9368-fb86e332ded3",
   "metadata": {},
   "outputs": [
    {
     "name": "stdout",
     "output_type": "stream",
     "text": [
      "[5 3 4 1 2]\n"
     ]
    }
   ],
   "source": [
    "arr = np.array([1,2,3,4,5])\n",
    "np.random.shuffle(arr)\n",
    "print(arr)"
   ]
  },
  {
   "cell_type": "code",
   "execution_count": null,
   "id": "9093cf8c-3423-4355-bda1-2d36d57b0d70",
   "metadata": {},
   "outputs": [],
   "source": []
  }
 ],
 "metadata": {
  "kernelspec": {
   "display_name": "Python [conda env:base] *",
   "language": "python",
   "name": "conda-base-py"
  },
  "language_info": {
   "codemirror_mode": {
    "name": "ipython",
    "version": 3
   },
   "file_extension": ".py",
   "mimetype": "text/x-python",
   "name": "python",
   "nbconvert_exporter": "python",
   "pygments_lexer": "ipython3",
   "version": "3.12.7"
  }
 },
 "nbformat": 4,
 "nbformat_minor": 5
}
